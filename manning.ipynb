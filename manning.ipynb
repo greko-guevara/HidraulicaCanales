{
 "cells": [
  {
   "cell_type": "code",
   "execution_count": 3,
   "metadata": {},
   "outputs": [
    {
     "output_type": "stream",
     "name": "stdout",
     "text": [
      "##################################################\n##################################################\nBienvenido al programa para el cálculo del tirante normal usando Manning\nTomado del escritorio de G_Guevara usando Python 3.9\n"
     ]
    },
    {
     "output_type": "error",
     "ename": "ValueError",
     "evalue": "could not convert string to float: ''",
     "traceback": [
      "\u001b[1;31m---------------------------------------------------------------------------\u001b[0m",
      "\u001b[1;31mValueError\u001b[0m                                Traceback (most recent call last)",
      "\u001b[1;32m<ipython-input-3-c8dbfbe484fe>\u001b[0m in \u001b[0;36m<module>\u001b[1;34m\u001b[0m\n\u001b[0;32m      6\u001b[0m \u001b[0mprint\u001b[0m \u001b[1;33m(\u001b[0m\u001b[1;34m\"Tomado del escritorio de G_Guevara usando Python 3.9\"\u001b[0m\u001b[1;33m)\u001b[0m\u001b[1;33m\u001b[0m\u001b[1;33m\u001b[0m\u001b[0m\n\u001b[0;32m      7\u001b[0m \u001b[1;33m\u001b[0m\u001b[0m\n\u001b[1;32m----> 8\u001b[1;33m \u001b[0mQ\u001b[0m \u001b[1;33m=\u001b[0m \u001b[0mfloat\u001b[0m \u001b[1;33m(\u001b[0m\u001b[0minput\u001b[0m\u001b[1;33m(\u001b[0m\u001b[1;34m\"introduzca la Caudal en m3/s: \"\u001b[0m\u001b[1;33m)\u001b[0m\u001b[1;33m)\u001b[0m\u001b[1;33m\u001b[0m\u001b[1;33m\u001b[0m\u001b[0m\n\u001b[0m\u001b[0;32m      9\u001b[0m \u001b[0mS\u001b[0m \u001b[1;33m=\u001b[0m \u001b[0mfloat\u001b[0m \u001b[1;33m(\u001b[0m\u001b[0minput\u001b[0m\u001b[1;33m(\u001b[0m\u001b[1;34m\"introduzca la pendiente (decimal): \"\u001b[0m\u001b[1;33m)\u001b[0m\u001b[1;33m)\u001b[0m\u001b[1;33m\u001b[0m\u001b[1;33m\u001b[0m\u001b[0m\n\u001b[0;32m     10\u001b[0m \u001b[0mN\u001b[0m \u001b[1;33m=\u001b[0m \u001b[0mfloat\u001b[0m \u001b[1;33m(\u001b[0m\u001b[0minput\u001b[0m\u001b[1;33m(\u001b[0m\u001b[1;34m\"introduzca la rugosidad: \"\u001b[0m\u001b[1;33m)\u001b[0m\u001b[1;33m)\u001b[0m\u001b[1;33m\u001b[0m\u001b[1;33m\u001b[0m\u001b[0m\n",
      "\u001b[1;31mValueError\u001b[0m: could not convert string to float: ''"
     ]
    }
   ],
   "source": [
    "#codigo de entrada\n",
    "\n",
    "print (\"##################################################\")\n",
    "print (\"##################################################\")\n",
    "print (\"Bienvenido al programa para el cálculo del tirante normal usando Manning\")\n",
    "print (\"Tomado del escritorio de G_Guevara usando Python 3.9\")\n",
    "\n",
    "Q = float (input(\"introduzca la Caudal en m3/s: \")) \n",
    "S = float (input(\"introduzca la pendiente (decimal): \"))\n",
    "N = float (input(\"introduzca la rugosidad: \"))\n",
    "B = float (input(\"introduzca el base (m): \"))\n",
    "Z = float (input(\"introduzca la talud: \"))\n",
    "   \n",
    "#codigo de salida \n",
    "\n",
    "A=Q*N/(S**0.5)\n",
    "\n",
    "Y=0.0\n",
    "AA= float ((B+Z*Y)*Y)**(5/3)/((B+2*Y*(1+Z**2)**0.5)**(2/3))\n",
    "\n",
    "while AA < A:\n",
    "    Y = Y + 0.001\n",
    "    AA= float ((B+Z*Y)*Y)**(5/3)/((B+2*Y*(1+Z**2)**0.5)**(2/3))\n",
    "\n",
    "Tirante=round(Y,2)\n",
    "Area=round((B+Z*Y)*Y,2)\n",
    "Velocidad=round(Q/Area,2)\n",
    "\n",
    "print (\"##################################################\")\n",
    "print (\"##################################################\")\n",
    "print (\"Datos de Salida\")\n",
    "print(\"el tirante es: \"+ str(Tirante)+ \"  m\")   \n",
    "print(\"el Area hidráulica es: \"+ str(Area)+ \"  m2\")   \n",
    "print(\"la velocidad es: \"+ str(Velocidad)+ \"  m/s\")           \n",
    "   "
   ]
  },
  {
   "cell_type": "code",
   "execution_count": 2,
   "metadata": {},
   "outputs": [
    {
     "output_type": "stream",
     "name": "stdout",
     "text": [
      "##################################################\n##################################################\nDatos de Salida\nel tirante es: 2.08  m\nel Area hidráulica es: 5.36  m2\nla velocidad es: 0.37  m/s\n"
     ]
    }
   ],
   "source": [
    "\n"
   ]
  }
 ],
 "metadata": {
  "kernelspec": {
   "name": "python394jvsc74a57bd0cd823b65f7b38d9d9710b88c600c8e22ae64cf44a4ccc591d6d6d8623dea5918",
   "display_name": "Python 3.9.4 64-bit"
  },
  "language_info": {
   "codemirror_mode": {
    "name": "ipython",
    "version": 3
   },
   "file_extension": ".py",
   "mimetype": "text/x-python",
   "name": "python",
   "nbconvert_exporter": "python",
   "pygments_lexer": "ipython3",
   "version": "3.9.4-final"
  },
  "metadata": {
   "interpreter": {
    "hash": "cd823b65f7b38d9d9710b88c600c8e22ae64cf44a4ccc591d6d6d8623dea5918"
   }
  }
 },
 "nbformat": 4,
 "nbformat_minor": 4
}